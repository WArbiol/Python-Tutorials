{
 "cells": [
  {
   "cell_type": "markdown",
   "metadata": {},
   "source": [
    "# A small tutorial of maps:"
   ]
  },
  {
   "cell_type": "code",
   "execution_count": null,
   "metadata": {},
   "outputs": [],
   "source": [
    "import math\n",
    "def area(r):\n",
    "    \"\"\"Area of a circle\"\"\"\n",
    "    return math.pi * (r**2)\n",
    "\n",
    "#radios:\n",
    "rads = [2, 5, 7.1, 0.3, 10]\n",
    "\n",
    "mapa = map(area, rads) #function , list(or tuple, iterable...)\n",
    "#mapa é do tiop map, for list:\n",
    "mapalist=list(mapa)\n",
    "\n",
    "mapalist"
   ]
  },
  {
   "cell_type": "markdown",
   "metadata": {},
   "source": [
    "![](map.png)"
   ]
  },
  {
   "cell_type": "code",
   "execution_count": null,
   "metadata": {},
   "outputs": [],
   "source": [
    "temps = [(\"Cidade 1\", 29), (\"Cidade 2\", 36), (\"Cidade 3\", 19), (\"Cidade 4\", 26), (\"Cidade 5\", 27), (\"Cidade 6\", 28), (\"Cidade 7\", 22), (\"Cidade 8\", 32)]\n",
    "c_to_f = lambda data: (data[0], (9/5)*data[1] + 32)"
   ]
  },
  {
   "cell_type": "markdown",
   "metadata": {},
   "source": [
    "Find all dara above the average:"
   ]
  },
  {
   "cell_type": "code",
   "execution_count": 1,
   "metadata": {},
   "outputs": [
    {
     "data": {
      "text/plain": [
       "[2.7, 4.1, 4.3]"
      ]
     },
     "execution_count": 1,
     "metadata": {},
     "output_type": "execute_result"
    }
   ],
   "source": [
    "import statistics\n",
    "data = [1.3, 2.7 ,0.8, 4.1, 4.3, -0.1]\n",
    "avg = statistics.mean(data)\n",
    "lista = list(filter(lambda x: x > avg, data))"
   ]
  }
 ],
 "metadata": {
  "interpreter": {
   "hash": "521eeac695e3c2e966221b87494992308f5f92fcd8b60d44812914cbad1a6e13"
  },
  "kernelspec": {
   "display_name": "Python 3.10.2 64-bit",
   "language": "python",
   "name": "python3"
  },
  "language_info": {
   "codemirror_mode": {
    "name": "ipython",
    "version": 3
   },
   "file_extension": ".py",
   "mimetype": "text/x-python",
   "name": "python",
   "nbconvert_exporter": "python",
   "pygments_lexer": "ipython3",
   "version": "3.10.2"
  },
  "orig_nbformat": 4
 },
 "nbformat": 4,
 "nbformat_minor": 2
}
