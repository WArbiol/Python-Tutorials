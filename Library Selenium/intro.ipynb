{
 "cells": [
  {
   "cell_type": "markdown",
   "metadata": {},
   "source": [
    "# Importando bibliotecas"
   ]
  },
  {
   "cell_type": "code",
   "execution_count": 54,
   "metadata": {},
   "outputs": [],
   "source": [
    "from selenium import webdriver as wb\n",
    "import time"
   ]
  },
  {
   "cell_type": "markdown",
   "metadata": {},
   "source": [
    "# Criando driver:"
   ]
  },
  {
   "cell_type": "code",
   "execution_count": 55,
   "metadata": {},
   "outputs": [],
   "source": [
    "def create_wbd(debug):\n",
    "    options = wb.ChromeOptions()\n",
    "    if not debug:\n",
    "        options.add_argument(\"--headless\")\n",
    "        options.add_argument(\"--disable-gpu\")\n",
    "    options.add_argument(\"start-maximized\")\n",
    "    options.add_argument(\"disable-infobars\")\n",
    "    options.add_argument(\"--disable-extensions\")\n",
    "    options.add_argument(\"--disable-dev-shm-usage\")\n",
    "    options.add_argument(\"--no-sandbox\")\n",
    "    options.add_argument(\"--disable-setuid-sandbox\")\n",
    "    options.add_argument(\"--remote-debugging-port=0\")\n",
    "    browser = wb.Chrome(\"C:/Users/walte/Desktop/WebDriver/chromedriver\", options=options)\n",
    "    return browser"
   ]
  },
  {
   "cell_type": "code",
   "execution_count": 56,
   "metadata": {},
   "outputs": [
    {
     "name": "stderr",
     "output_type": "stream",
     "text": [
      "C:\\Users\\walte\\AppData\\Local\\Temp/ipykernel_23496/1028324781.py:13: DeprecationWarning: executable_path has been deprecated, please pass in a Service object\n",
      "  browser = wb.Chrome(\"C:/Users/walte/Desktop/WebDriver/chromedriver\", options=options)\n"
     ]
    }
   ],
   "source": [
    "debug = True\n",
    "driver = create_wbd(debug)"
   ]
  },
  {
   "cell_type": "markdown",
   "metadata": {},
   "source": [
    "## Acessando site:"
   ]
  },
  {
   "cell_type": "code",
   "execution_count": 57,
   "metadata": {},
   "outputs": [],
   "source": [
    "link_ps = 'https://www.mercadolivre.com.br/sony-playstation-5-825gb-standard-cor-branco-e-preto/p/MLB16171888'\n",
    "driver.get(link_ps)\n",
    "time.sleep(1.5)"
   ]
  },
  {
   "cell_type": "markdown",
   "metadata": {},
   "source": [
    "## Encontrando por Xpath\n",
    ".//tag[contains(@atributo, 'o atributo')]\n",
    "ou\n",
    "//tag[@atributo = '...' and @atributo2 = '...' and ...]"
   ]
  },
  {
   "cell_type": "code",
   "execution_count": 58,
   "metadata": {},
   "outputs": [
    {
     "name": "stderr",
     "output_type": "stream",
     "text": [
      "C:\\Users\\walte\\AppData\\Local\\Temp/ipykernel_23496/23292959.py:1: DeprecationWarning: find_element_by_* commands are deprecated. Please use find_element() instead\n",
      "  info = driver.find_element_by_xpath(\".//p[contains(@class, 'ui-pdp-description__content')]\").text\n"
     ]
    },
    {
     "data": {
      "text/plain": [
       "'Com seu console PlayStation 5 você terá entretenimento garantido todos os dias. Sua tecnologia foi criada para colocar novos desafios para jogadores novatos e especialistas.\\n\\nO PlayStation renovou as expectativas do mundo virtual com este novo console e seu grande desempenho. Tem uma interface de usuário mais rápida e fácil de navegar do que os modelos anteriores. Além disso, você poderá jogar por horas desafiando milhões de oponentes em todo o mundo que estão esperando por novos desafios.\\n\\nQualidade de outro nível\\nEste console é considerado o melhor do mercado, já que tem uma resolução de até 4K.\\n\\nAlém disso, o controle DualSense para PS5 combina estilo e tecnologia para tornar o jogo mais confortável e interativo para todos os seus jogadores.\\n\\nAdaptado às suas necessidades\\nSalve as suas aplicações, fotos, vídeos e muito mais no disco rígido, que tem uma capacidade de 825 GB.\\nPor ter um processador de 8 núcleos e um gráfico, fornecem uma experiência dinâmica, respostas ágeis e transições suaves de imagens de alta definição.\\nPor outro lado, tem uma porta USB e saída HDMI, que permitem conectar acessórios e carregar a bateria do controle enquanto você joga.\\n\\nVocê poderá reproduzir música, assistir seus filmes e séries favoritos através dos aplicativos para download.'"
      ]
     },
     "execution_count": 58,
     "metadata": {},
     "output_type": "execute_result"
    }
   ],
   "source": [
    "info = driver.find_element_by_xpath(\".//p[contains(@class, 'ui-pdp-description__content')]\").text\n",
    "info\n"
   ]
  },
  {
   "cell_type": "markdown",
   "metadata": {},
   "source": [
    "## Por class_name"
   ]
  },
  {
   "cell_type": "code",
   "execution_count": 59,
   "metadata": {},
   "outputs": [
    {
     "name": "stdout",
     "output_type": "stream",
     "text": [
      "Sony PlayStation 5 825GB Standard cor branco e preto 6200,00\n"
     ]
    },
    {
     "name": "stderr",
     "output_type": "stream",
     "text": [
      "C:\\Users\\walte\\AppData\\Local\\Temp/ipykernel_23496/4216104113.py:1: DeprecationWarning: find_element_by_* commands are deprecated. Please use find_element() instead\n",
      "  titulo = driver.find_element_by_class_name('ui-pdp-title').text\n",
      "C:\\Users\\walte\\AppData\\Local\\Temp/ipykernel_23496/4216104113.py:2: DeprecationWarning: find_element_by_* commands are deprecated. Please use find_element() instead\n",
      "  preco = driver.find_element_by_class_name('andes-money-amount__fraction').text\n"
     ]
    }
   ],
   "source": [
    "titulo = driver.find_element_by_class_name('ui-pdp-title').text\n",
    "preco = driver.find_element_by_class_name('andes-money-amount__fraction').text\n",
    "preco = preco.replace('.','') + ',00'\n",
    "print(titulo, preco)"
   ]
  },
  {
   "cell_type": "markdown",
   "metadata": {},
   "source": [
    "## Clicar"
   ]
  },
  {
   "cell_type": "code",
   "execution_count": 60,
   "metadata": {},
   "outputs": [
    {
     "name": "stderr",
     "output_type": "stream",
     "text": [
      "C:\\Users\\walte\\AppData\\Local\\Temp/ipykernel_23496/1438968233.py:1: DeprecationWarning: find_element_by_* commands are deprecated. Please use find_element() instead\n",
      "  botao= driver.find_element_by_xpath(\".//button[contains(@class, 'andes-button andes-button--loud')]\")\n"
     ]
    }
   ],
   "source": [
    "botao= driver.find_element_by_xpath(\".//button[contains(@class, 'andes-button andes-button--loud')]\")\n",
    "botao.click()"
   ]
  },
  {
   "cell_type": "markdown",
   "metadata": {},
   "source": [
    "## Retornar página"
   ]
  },
  {
   "cell_type": "code",
   "execution_count": 61,
   "metadata": {},
   "outputs": [],
   "source": [
    "driver.back()\n",
    "time.sleep(0.5)\n"
   ]
  },
  {
   "cell_type": "markdown",
   "metadata": {},
   "source": [
    "## Pegar atributos:"
   ]
  },
  {
   "cell_type": "code",
   "execution_count": 30,
   "metadata": {},
   "outputs": [
    {
     "name": "stderr",
     "output_type": "stream",
     "text": [
      "C:\\Users\\walte\\AppData\\Local\\Temp/ipykernel_23496/3600839581.py:1: DeprecationWarning: find_element_by_* commands are deprecated. Please use find_element() instead\n",
      "  botao= driver.find_element_by_xpath(\".//button[contains(@class, 'andes-button andes-button--loud')]\")\n"
     ]
    },
    {
     "data": {
      "text/plain": [
       "'https://www.mercadolivre.com.br/gz/checkout/buy'"
      ]
     },
     "execution_count": 30,
     "metadata": {},
     "output_type": "execute_result"
    }
   ],
   "source": [
    "botao= driver.find_element_by_xpath(\".//button[contains(@class, 'andes-button andes-button--loud')]\")\n",
    "\n",
    "botao_link = botao.get_attribute('formaction')\n",
    "botao_link"
   ]
  },
  {
   "cell_type": "markdown",
   "metadata": {},
   "source": [
    "## Pegando o HTML do elemento"
   ]
  },
  {
   "cell_type": "code",
   "execution_count": 33,
   "metadata": {},
   "outputs": [
    {
     "data": {
      "text/plain": [
       "'<button type=\"submit\" class=\"andes-button andes-button--loud\" formaction=\"https://www.mercadolivre.com.br/gz/checkout/buy\"><span class=\"andes-button__content\">Comprar agora</span></button>'"
      ]
     },
     "execution_count": 33,
     "metadata": {},
     "output_type": "execute_result"
    }
   ],
   "source": [
    "botao_html = botao.get_attribute('outerHTML')\n",
    "botao_html\n"
   ]
  },
  {
   "cell_type": "markdown",
   "metadata": {},
   "source": [
    "## Ou o HTML interno"
   ]
  },
  {
   "cell_type": "code",
   "execution_count": 34,
   "metadata": {},
   "outputs": [
    {
     "data": {
      "text/plain": [
       "'<span class=\"andes-button__content\">Comprar agora</span>'"
      ]
     },
     "execution_count": 34,
     "metadata": {},
     "output_type": "execute_result"
    }
   ],
   "source": [
    "botao_html = botao.get_attribute('innerHTML')\n",
    "botao_html"
   ]
  },
  {
   "cell_type": "markdown",
   "metadata": {},
   "source": [
    "## Código fonte:"
   ]
  },
  {
   "cell_type": "code",
   "execution_count": null,
   "metadata": {},
   "outputs": [],
   "source": [
    "CodigoFonte = driver.page_source"
   ]
  },
  {
   "cell_type": "code",
   "execution_count": 53,
   "metadata": {},
   "outputs": [
    {
     "name": "stderr",
     "output_type": "stream",
     "text": [
      "C:\\Users\\walte\\AppData\\Local\\Temp/ipykernel_23496/3587351286.py:1: DeprecationWarning: find_element_by_* commands are deprecated. Please use find_element() instead\n",
      "  info = driver.find_element_by_xpath(\".//*[contains(@class, 'ui-pdp-description__content')]\")\n",
      "C:\\Users\\walte\\AppData\\Local\\Temp/ipykernel_23496/3587351286.py:3: DeprecationWarning: find_elements_by_* commands are deprecated. Please use find_elements() instead\n",
      "  info = driver.find_elements_by_xpath(\".//p\")\n"
     ]
    },
    {
     "data": {
      "text/plain": [
       "99"
      ]
     },
     "execution_count": 53,
     "metadata": {},
     "output_type": "execute_result"
    }
   ],
   "source": [
    "info = driver.find_element_by_xpath(\".//*[contains(@class, 'ui-pdp-description__content')]\")\n",
    "info.text\n",
    "info = driver.find_elements_by_xpath(\".//p\")\n",
    "len(info)\n",
    "#botao= driver.find_element_by_xpath(\".//button[contains(@class, 'andes-button andes-button--loud')]\")\n",
    "#//*[@class=\"x\"]"
   ]
  }
 ],
 "metadata": {
  "interpreter": {
   "hash": "521eeac695e3c2e966221b87494992308f5f92fcd8b60d44812914cbad1a6e13"
  },
  "kernelspec": {
   "display_name": "Python 3.10.2 64-bit",
   "language": "python",
   "name": "python3"
  },
  "language_info": {
   "codemirror_mode": {
    "name": "ipython",
    "version": 3
   },
   "file_extension": ".py",
   "mimetype": "text/x-python",
   "name": "python",
   "nbconvert_exporter": "python",
   "pygments_lexer": "ipython3",
   "version": "3.10.2"
  },
  "orig_nbformat": 4
 },
 "nbformat": 4,
 "nbformat_minor": 2
}
