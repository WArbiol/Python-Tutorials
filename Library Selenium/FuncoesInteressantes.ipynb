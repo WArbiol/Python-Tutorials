{
 "cells": [
  {
   "cell_type": "code",
   "execution_count": 12,
   "metadata": {},
   "outputs": [],
   "source": [
    "from selenium import webdriver as wb\n",
    "import time\n",
    "import random"
   ]
  },
  {
   "cell_type": "markdown",
   "metadata": {},
   "source": [
    "## Para entrar em um link:"
   ]
  },
  {
   "cell_type": "code",
   "execution_count": 13,
   "metadata": {},
   "outputs": [],
   "source": [
    "def web_request(driver, url):\n",
    "    time.sleep(random.uniform(2,3))\n",
    "\n",
    "    try:\n",
    "        driver.get(url)\n",
    "    except:\n",
    "        return False\n",
    "        \n",
    "    return True"
   ]
  },
  {
   "cell_type": "markdown",
   "metadata": {},
   "source": [
    "## Checar por erros e retornar elemento:"
   ]
  },
  {
   "cell_type": "code",
   "execution_count": 14,
   "metadata": {},
   "outputs": [],
   "source": [
    "def check_errors(element, index, is_list, is_text):\n",
    "    if is_list and is_text:\n",
    "        try:\n",
    "            value = element[index].text\n",
    "            return value\n",
    "        except:\n",
    "            return None\n",
    "        \n",
    "    else:\n",
    "        if is_list:\n",
    "            try:\n",
    "                value = element[index]\n",
    "                return value\n",
    "            except:\n",
    "                return None\n",
    "            \n",
    "        else:\n",
    "            if is_text:\n",
    "                try:\n",
    "                    value = element.text\n",
    "                    return value\n",
    "                except:\n",
    "                    return None\n",
    "    try:\n",
    "        value = element\n",
    "        return value\n",
    "    except:\n",
    "        return None"
   ]
  },
  {
   "cell_type": "markdown",
   "metadata": {},
   "source": [
    "## Para encontrar elemento:"
   ]
  },
  {
   "cell_type": "code",
   "execution_count": 20,
   "metadata": {},
   "outputs": [],
   "source": [
    "def find_elements(driver, tag=False, atribute=False, content=False, index=0, is_list=True, is_text=True):\n",
    "    \n",
    "    if tag and atribute and content:\n",
    "        path = './/' + tag + '[contains(@' + atribute + \", '\" + content + \"')]\"\n",
    "    else:\n",
    "        if tag:\n",
    "            path = './/' + tag\n",
    "        if atribute and content:\n",
    "            path= './/*[contains(@'  + atribute + \", '\" + content + \"')]\"\n",
    "    \n",
    "    try:\n",
    "        if is_list:\n",
    "            element = driver.find_elements_by_xpath(path)\n",
    "        else:\n",
    "            element = driver.find_element_by_xpath(path)\n",
    "    except:\n",
    "        return None\n",
    "    \n",
    "    return check_errors(element, index, is_list, is_text)"
   ]
  },
  {
   "cell_type": "code",
   "execution_count": 16,
   "metadata": {},
   "outputs": [],
   "source": [
    "def create_wbd(debug):\n",
    "    options = wb.ChromeOptions()\n",
    "    if not debug:\n",
    "        options.add_argument(\"--headless\")\n",
    "        options.add_argument(\"--disable-gpu\")\n",
    "    options.add_argument(\"start-maximized\")\n",
    "    options.add_argument(\"disable-infobars\")\n",
    "    options.add_argument(\"--disable-extensions\")\n",
    "    options.add_argument(\"--disable-dev-shm-usage\")\n",
    "    options.add_argument(\"--no-sandbox\")\n",
    "    options.add_argument(\"--disable-setuid-sandbox\")\n",
    "    options.add_argument(\"--remote-debugging-port=0\")\n",
    "    browser = wb.Chrome(\"C:/Users/walte/Desktop/WebDriver/chromedriver\", options=options)\n",
    "    return browser"
   ]
  },
  {
   "cell_type": "code",
   "execution_count": 17,
   "metadata": {},
   "outputs": [
    {
     "name": "stderr",
     "output_type": "stream",
     "text": [
      "C:\\Users\\walte\\AppData\\Local\\Temp/ipykernel_22476/1028324781.py:13: DeprecationWarning: executable_path has been deprecated, please pass in a Service object\n",
      "  browser = wb.Chrome(\"C:/Users/walte/Desktop/WebDriver/chromedriver\", options=options)\n"
     ]
    },
    {
     "data": {
      "text/plain": [
       "True"
      ]
     },
     "execution_count": 17,
     "metadata": {},
     "output_type": "execute_result"
    }
   ],
   "source": [
    "driver = create_wbd(True)\n",
    "web_request(driver, 'https://www.mercadolivre.com.br/sony-playstation-5-825gb-standard-cor-branco-e-preto/p/MLB16171888')\n",
    "time.sleep(1)"
   ]
  },
  {
   "cell_type": "code",
   "execution_count": 21,
   "metadata": {},
   "outputs": [
    {
     "name": "stderr",
     "output_type": "stream",
     "text": [
      "C:\\Users\\walte\\AppData\\Local\\Temp/ipykernel_22476/1347686144.py:15: DeprecationWarning: find_element_by_* commands are deprecated. Please use find_element() instead\n",
      "  element = driver.find_element_by_xpath(path)\n"
     ]
    },
    {
     "data": {
      "text/plain": [
       "'https://www.mercadolivre.com.br/gz/checkout/buy'"
      ]
     },
     "execution_count": 21,
     "metadata": {},
     "output_type": "execute_result"
    }
   ],
   "source": [
    "botao = find_elements(driver, 'button', 'class', 'andes-button andes-button--loud', is_list=False, is_text=False)\n",
    "botao.get_attribute('formaction')"
   ]
  }
 ],
 "metadata": {
  "interpreter": {
   "hash": "521eeac695e3c2e966221b87494992308f5f92fcd8b60d44812914cbad1a6e13"
  },
  "kernelspec": {
   "display_name": "Python 3.10.2 64-bit",
   "language": "python",
   "name": "python3"
  },
  "language_info": {
   "codemirror_mode": {
    "name": "ipython",
    "version": 3
   },
   "file_extension": ".py",
   "mimetype": "text/x-python",
   "name": "python",
   "nbconvert_exporter": "python",
   "pygments_lexer": "ipython3",
   "version": "3.10.2"
  },
  "orig_nbformat": 4
 },
 "nbformat": 4,
 "nbformat_minor": 2
}
