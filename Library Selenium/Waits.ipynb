{
 "cells": [
  {
   "cell_type": "code",
   "execution_count": 1,
   "metadata": {},
   "outputs": [],
   "source": [
    "from selenium import webdriver as wb\n",
    "from selenium.webdriver.support.ui import WebDriverWait\n",
    "from selenium.webdriver.support import expected_conditions as EC\n",
    "from selenium.webdriver.common.by import By"
   ]
  },
  {
   "cell_type": "markdown",
   "metadata": {},
   "source": [
    "## Criando o driver"
   ]
  },
  {
   "cell_type": "code",
   "execution_count": 2,
   "metadata": {},
   "outputs": [
    {
     "name": "stderr",
     "output_type": "stream",
     "text": [
      "C:\\Users\\walte\\AppData\\Local\\Temp/ipykernel_25224/1334556840.py:9: DeprecationWarning: executable_path has been deprecated, please pass in a Service object\n",
      "  driver = wb.Chrome(\"C:/Users/walte/Desktop/WebDriver/chromedriver\", options=options)\n"
     ]
    }
   ],
   "source": [
    "options = wb.ChromeOptions()\n",
    "options.add_argument(\"start-maximized\")\n",
    "options.add_argument(\"disable-infobars\")\n",
    "options.add_argument(\"--disable-extensions\")\n",
    "options.add_argument(\"--disable-dev-shm-usage\")\n",
    "options.add_argument(\"--no-sandbox\")\n",
    "options.add_argument(\"--disable-setuid-sandbox\")\n",
    "options.add_argument(\"--remote-debugging-port=0\")\n",
    "driver = wb.Chrome(\"C:/Users/walte/Desktop/WebDriver/chromedriver\", options=options)"
   ]
  },
  {
   "cell_type": "markdown",
   "metadata": {},
   "source": [
    "# WAIT UNTIL"
   ]
  },
  {
   "cell_type": "markdown",
   "metadata": {},
   "source": [
    "### Espera no maximo um período definido encontrar a presença de um elemento:\n",
    "```\n",
    "WebDriverWait(driver, <tempo maximo de espera>).until(\n",
    "    EC.presence_of_element_located(<O elemento>))\n",
    "```"
   ]
  },
  {
   "cell_type": "code",
   "execution_count": 3,
   "metadata": {},
   "outputs": [],
   "source": [
    "debug = True\n",
    "def waitLoader(driver):\n",
    "    global debug\n",
    "    while True:\n",
    "        try:\n",
    "            WebDriverWait(driver, 5).until(\n",
    "                EC.presence_of_element_located((By.ID , 'boxLoading'))\n",
    "            )\n",
    "\n",
    "            # then wait for the element to disappear\n",
    "            WebDriverWait(driver, 5).until_not(\n",
    "                EC.invisibility_of_element_located((By.ID , 'boxLoading'))\n",
    "            )\n",
    "\n",
    "        except:\n",
    "            if debug:\n",
    "                print('--waiting exception reached, returning')\n",
    "            return"
   ]
  },
  {
   "cell_type": "code",
   "execution_count": 5,
   "metadata": {},
   "outputs": [
    {
     "name": "stdout",
     "output_type": "stream",
     "text": [
      "--waiting exception reached, returning\n"
     ]
    }
   ],
   "source": [
    "driver.get('https://store.dahortapraporta.com.br/')\n",
    "waitLoader(driver)"
   ]
  },
  {
   "cell_type": "markdown",
   "metadata": {},
   "source": [
    "# Implict Wait\n",
    "Specifies the amount of time the driver should wait when searching for an element if it's not immediately present."
   ]
  },
  {
   "cell_type": "code",
   "execution_count": null,
   "metadata": {},
   "outputs": [],
   "source": [
    "driver = wb.Chrome('C:/Users/walte/Documents/WebDriver/chromedriver', options=options)\n",
    "\n",
    "driver.implicitly_wait(7)"
   ]
  }
 ],
 "metadata": {
  "interpreter": {
   "hash": "521eeac695e3c2e966221b87494992308f5f92fcd8b60d44812914cbad1a6e13"
  },
  "kernelspec": {
   "display_name": "Python 3.10.2 64-bit",
   "language": "python",
   "name": "python3"
  },
  "language_info": {
   "codemirror_mode": {
    "name": "ipython",
    "version": 3
   },
   "file_extension": ".py",
   "mimetype": "text/x-python",
   "name": "python",
   "nbconvert_exporter": "python",
   "pygments_lexer": "ipython3",
   "version": "3.10.2"
  },
  "orig_nbformat": 4
 },
 "nbformat": 4,
 "nbformat_minor": 2
}
