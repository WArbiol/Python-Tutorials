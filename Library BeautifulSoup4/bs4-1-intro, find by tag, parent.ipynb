{
 "cells": [
  {
   "cell_type": "code",
   "execution_count": 2,
   "metadata": {},
   "outputs": [],
   "source": [
    "from bs4 import BeautifulSoup as bs"
   ]
  },
  {
   "cell_type": "code",
   "execution_count": null,
   "metadata": {},
   "outputs": [
    {
     "ename": "",
     "evalue": "",
     "output_type": "error",
     "traceback": [
      "\u001b[1;31mRunning cells with 'Python 3.10.2 64-bit (windows store)' requires ipykernel package.\n",
      "Run the following command to install 'ipykernel' into the Python environment. \n",
      "Command: 'C:/Users/walte/AppData/Local/Microsoft/WindowsApps/python3.10.exe -m pip install ipykernel -U --user --force-reinstall'"
     ]
    }
   ],
   "source": [
    "#doc=teste=bs(open(\"html.html\", 'r'), 'html.parser')\n",
    "with open(\"index1.html\", 'r') as f:\n",
    "    doc=bs(f, 'html.parser')\n",
    "tag = doc.title #finding by tag\n",
    "print(tag.prettify())\n",
    "print(tag.string.strip()+'\\n')\n",
    "tag.string = 'VOCE ME ENCONTROU'\n",
    "print(tag.prettify())\n",
    "#print(doc.prettify())"
   ]
  },
  {
   "cell_type": "code",
   "execution_count": null,
   "metadata": {},
   "outputs": [],
   "source": [
    "tag_a = doc.find('a') # find just the first link\n",
    "tags_a = doc.find_all('a')\n",
    "print('a tags:\\n'+str(tags_a)+'\\n\\n')\n",
    "tags_p = doc.find_all('p')\n",
    "print('p tags:\\n'+str(tags_p)+'\\n\\n')\n",
    "print('\\tFirst a tag:\\n'+str(tags_a[0])+'\\n\\tSecond p tag:\\n'+str(tags_p[1])+'\\n\\n')\n",
    "\n",
    "print(tags_p[1].find_all('b'))"
   ]
  },
  {
   "cell_type": "code",
   "execution_count": null,
   "metadata": {},
   "outputs": [],
   "source": [
    "import requests\n",
    "url='https://www.newegg.ca/GIGABYTE-GeForce-RTX-3080-GV-N3080GAMING-OC-10GD/p/N82E16814932459?cm_sp=SH-_-943577-_-8-_-2-_-9SIAPBWFVU1074-_-GIGABYTE+Gaming+GeForce+RTX+3080-_-gigabyte%7Crtx-_-1&Item=9SIAPBWFVU1074'\n",
    "result = requests.get(url)\n",
    "#print(result.text)\n",
    "doc = bs(result.text, 'html.parser')\n",
    "#print(doc.prettify())\n",
    "\n",
    "#prices = doc.find_all(text='$')\n",
    "#print(prices)      #=> give us just ['$', '$', '$']"
   ]
  },
  {
   "cell_type": "markdown",
   "metadata": {},
   "source": [
    "## Tree Structure"
   ]
  },
  {
   "cell_type": "code",
   "execution_count": null,
   "metadata": {},
   "outputs": [],
   "source": [
    "prices = doc.find_all(text='$')\n",
    "for i in range(len(prices)):\n",
    "    print(str(prices[i].parent)+'\\n')\n",
    "#we find out that it is over the \"strong\" tag"
   ]
  },
  {
   "cell_type": "code",
   "execution_count": 55,
   "metadata": {},
   "outputs": [
    {
     "name": "stdout",
     "output_type": "stream",
     "text": [
      "The price is: $1,934\n"
     ]
    }
   ],
   "source": [
    "parent=prices[0].parent\n",
    "strong = parent.find('strong')\n",
    "print('The price is: $' + strong.string)"
   ]
  }
 ],
 "metadata": {
  "interpreter": {
   "hash": "521eeac695e3c2e966221b87494992308f5f92fcd8b60d44812914cbad1a6e13"
  },
  "kernelspec": {
   "display_name": "Python 3.10.2 64-bit",
   "language": "python",
   "name": "python3"
  },
  "language_info": {
   "codemirror_mode": {
    "name": "ipython",
    "version": 3
   },
   "file_extension": ".py",
   "mimetype": "text/x-python",
   "name": "python",
   "nbconvert_exporter": "python",
   "pygments_lexer": "ipython3",
   "version": "3.10.2"
  },
  "orig_nbformat": 4
 },
 "nbformat": 4,
 "nbformat_minor": 2
}
