{
 "cells": [
  {
   "cell_type": "markdown",
   "metadata": {},
   "source": [
    "<details>\n",
    "    <summary>Difference bettween Contents Children and Descendants</summary>\n",
    "    <ul>\n",
    "        <li>Contents</li>\n",
    "            <ul><li>Returns a list of all the content in an HTML element, including the children nodes.</li>\n",
    "            <li>Return the text as strings and the nodes in the tags as a bs4.element.Tag object.</li></ul>\n",
    "        <li>Children</li>\n",
    "            <ul><li>Almost the same thing as the contents</li>\n",
    "            <li>One small difference that could make a huge impact (for those that take code optimization seriously).</li>\n",
    "            <li>Also returns the text that comes before a child node, the child node itself and the text that comes after the child node. The difference here is that it returns them as a generator instead of a list.</li></ul>\n",
    "        <li>Descendants</li>\n",
    "            <ul><li>Descendants attribute goes deeper and does more.</li>\n",
    "            <li>Descendants attribute gets all of the text and nodes that exist in children nodes. So it doesn’t return only children nodes, it returns grandchildren nodes as well.</li>\n",
    "            <li>Returns its results as a generator.</li></ul>\n",
    "    \n",
    "        <li><a href=\"https://linuxhint.com/find_children_nodes_beautiful_soup/\">Fonte</a></li>\n",
    "    </ul>\n",
    "</details>"
   ]
  },
  {
   "cell_type": "code",
   "execution_count": 13,
   "metadata": {},
   "outputs": [],
   "source": [
    "from bs4 import BeautifulSoup as bs\n",
    "with open('index2.html') as f:\n",
    "    doc = bs(f, 'html.parser')\n",
    "\n",
    "element = doc.find(['div'], class_='main-block')"
   ]
  },
  {
   "cell_type": "code",
   "execution_count": 20,
   "metadata": {},
   "outputs": [
    {
     "name": "stdout",
     "output_type": "stream",
     "text": [
      "element.children type: <class 'list_iterator'>\n",
      "element.children[0] type: <class 'bs4.element.NavigableString'>\n"
     ]
    }
   ],
   "source": [
    "i=1\n",
    "file = open(\".\\dff\\Children.txt\",\"w\")\n",
    "print('element.children type: ' + str(type(element.children)))\n",
    "for el in element.children:\n",
    "    file.write(f'{i}o-'+str(el)+'\\n')\n",
    "    i+=1\n",
    "print('element.children[0] type: ' + str(type(next(element.children))))\n"
   ]
  },
  {
   "cell_type": "code",
   "execution_count": 15,
   "metadata": {},
   "outputs": [
    {
     "name": "stdout",
     "output_type": "stream",
     "text": [
      "element.contents type: <class 'list'>\n",
      "element.contents[0] type: <class 'bs4.element.NavigableString'>\n"
     ]
    }
   ],
   "source": [
    "i=1\n",
    "file = open(\".\\dff\\Contents.txt\",\"w\")\n",
    "print('element.contents type: ' + str(type(element.contents)))\n",
    "print('element.contents[0] type: ' + str(type(element.contents[0])))\n",
    "for el in element.contents:\n",
    "    file.write(f'{i}o-'+str(el)+'\\n')\n",
    "    i+=1"
   ]
  },
  {
   "cell_type": "code",
   "execution_count": 18,
   "metadata": {},
   "outputs": [
    {
     "name": "stdout",
     "output_type": "stream",
     "text": [
      "element.descendants type: <class 'generator'>\n",
      "element.descendants[0] type: <class 'bs4.element.NavigableString'>\n"
     ]
    }
   ],
   "source": [
    "i=1\n",
    "file = open(\".\\dff\\Descendants.txt\",\"w\")\n",
    "print('element.descendants type: ' + str(type(element.descendants)))\n",
    "for el in element.descendants:\n",
    "    file.write(f'{i}o-'+str(el)+'\\n')\n",
    "    i+=1\n",
    "print('element.descendants[0] type: ' + str(type(next(element.descendants))))\n"
   ]
  },
  {
   "cell_type": "code",
   "execution_count": 17,
   "metadata": {},
   "outputs": [
    {
     "name": "stdout",
     "output_type": "stream",
     "text": [
      "<div class=\"main-block\">\n",
      " <div class=\"left-part\">\n",
      "  <i class=\"fas fa-graduation-cap\">\n",
      "  </i>\n",
      "  <h1>\n",
      "   Register to our courses\n",
      "  </h1>\n",
      "  <p>\n",
      "   W3docs provides free learning materials for programming languages like HTML, CSS, Java Script, PHP etc.\n",
      "  </p>\n",
      "  <div class=\"btn-group\">\n",
      "   <a class=\"btn-item\" href=\"https://www.w3docs.com/learn-html.html\">\n",
      "    Learn HTML\n",
      "   </a>\n",
      "   <a class=\"btn-item\" href=\"https://www.w3docs.com/quiz/#\">\n",
      "    Select Quiz\n",
      "   </a>\n",
      "  </div>\n",
      "  $2345\n",
      " </div>\n",
      " <form action=\"/\">\n",
      "  <div class=\"title\">\n",
      "   <i class=\"fas fa-pencil-alt\">\n",
      "   </i>\n",
      "   <h2>\n",
      "    Register here\n",
      "   </h2>\n",
      "  </div>\n",
      "  $123\n",
      "  <div class=\"info\">\n",
      "   <input class=\"fname\" name=\"name\" placeholder=\"Full name\" type=\"text\"/>\n",
      "   <input name=\"name\" placeholder=\"Email\" type=\"text\"/>\n",
      "   <input name=\"name\" placeholder=\"Phone number\" type=\"text\"/>\n",
      "   <input name=\"name\" placeholder=\"Password\" type=\"password\"/>\n",
      "   <select>\n",
      "    <option selected=\"\" value=\"course-type\">\n",
      "     Course type*\n",
      "    </option>\n",
      "    <option value=\"short-courses\">\n",
      "     Short courses\n",
      "    </option>\n",
      "    <option value=\"featured-courses\">\n",
      "     Featured courses\n",
      "    </option>\n",
      "    <option value=\"undergraduate\">\n",
      "     Undergraduate\n",
      "    </option>\n",
      "    <option value=\"diploma\">\n",
      "     Diploma\n",
      "    </option>\n",
      "    <option value=\"certificate\">\n",
      "     Certificate\n",
      "    </option>\n",
      "    <option value=\"masters-degree\">\n",
      "     Masters degree\n",
      "    </option>\n",
      "    <option value=\"postgraduate\">\n",
      "     Postgraduate\n",
      "    </option>\n",
      "   </select>\n",
      "  </div>\n",
      "  <div class=\"checkbox\">\n",
      "   <input name=\"checkbox\" type=\"checkbox\"/>\n",
      "   <span>\n",
      "    I agree to the\n",
      "    <a href=\"https://www.w3docs.com/privacy-policy\">\n",
      "     Privacy Poalicy for W3Docs.\n",
      "    </a>\n",
      "   </span>\n",
      "  </div>\n",
      "  <button href=\"/\" type=\"submit\">\n",
      "   Submit\n",
      "  </button>\n",
      " </form>\n",
      "</div>\n",
      "\n"
     ]
    }
   ],
   "source": [
    "print(element.prettify())"
   ]
  }
 ],
 "metadata": {
  "interpreter": {
   "hash": "521eeac695e3c2e966221b87494992308f5f92fcd8b60d44812914cbad1a6e13"
  },
  "kernelspec": {
   "display_name": "Python 3.10.2 64-bit",
   "language": "python",
   "name": "python3"
  },
  "language_info": {
   "codemirror_mode": {
    "name": "ipython",
    "version": 3
   },
   "file_extension": ".py",
   "mimetype": "text/x-python",
   "name": "python",
   "nbconvert_exporter": "python",
   "pygments_lexer": "ipython3",
   "version": "3.10.2"
  },
  "orig_nbformat": 4
 },
 "nbformat": 4,
 "nbformat_minor": 2
}
