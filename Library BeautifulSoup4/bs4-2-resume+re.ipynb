{
 "cells": [
  {
   "cell_type": "markdown",
   "metadata": {},
   "source": [
    "## Recap"
   ]
  },
  {
   "cell_type": "code",
   "execution_count": 1,
   "metadata": {},
   "outputs": [
    {
     "name": "stdout",
     "output_type": "stream",
     "text": [
      "<option selected=\"\" value=\"course-type\">Course type*</option>\n",
      "\n",
      "tag['selected'] = \n",
      "\n",
      "tag['value'] = course-type\n",
      "\n",
      "tag['color'] = doesn't exists\n",
      "\n",
      "tag['color'] = blue\n",
      "\n",
      "Now the atributes are:\n",
      "\t{'value': 'course-type', 'selected': '', 'color': 'blue'}\n",
      "\n",
      "Now, with find_all with filters we can get:\n",
      "[<option value=\"undergraduate\">Undergraduate</option>]\n",
      "\n",
      "Now, by last, because its huge, with find_all with a list we can get:\n",
      "[<div class=\"main-block\">\n",
      "<div class=\"left-part\">\n",
      "<i class=\"fas fa-graduation-cap\"></i>\n",
      "<h1>Register to our courses</h1>\n",
      "<p>W3docs provides free learning materials for programming languages like HTML, CSS, Java Script, PHP etc.</p>\n",
      "<div class=\"btn-group\">\n",
      "<a class=\"btn-item\" href=\"https://www.w3docs.com/learn-html.html\">Learn HTML</a>\n",
      "<a class=\"btn-item\" href=\"https://www.w3docs.com/quiz/#\">Select Quiz</a>\n",
      "</div>\n",
      "        $2345\n",
      "      </div>\n",
      "<form action=\"/\">\n",
      "<div class=\"title\">\n",
      "<i class=\"fas fa-pencil-alt\"></i>\n",
      "<h2>Register here</h2>\n",
      "</div>\n",
      "        $123\n",
      "        <div class=\"info\">\n",
      "<input class=\"fname\" name=\"name\" placeholder=\"Full name\" type=\"text\"/>\n",
      "<input name=\"name\" placeholder=\"Email\" type=\"text\"/>\n",
      "<input name=\"name\" placeholder=\"Phone number\" type=\"text\"/>\n",
      "<input name=\"name\" placeholder=\"Password\" type=\"password\"/>\n",
      "<select>\n",
      "<option color=\"blue\" selected=\"\" value=\"course-type\">Course type*</option>\n",
      "<option value=\"short-courses\">Short courses</option>\n",
      "<option value=\"featured-courses\">Featured courses</option>\n",
      "<option value=\"undergraduate\">Undergraduate</option>\n",
      "<option value=\"diploma\">Diploma</option>\n",
      "<option value=\"certificate\">Certificate</option>\n",
      "<option value=\"masters-degree\">Masters degree</option>\n",
      "<option value=\"postgraduate\">Postgraduate</option>\n",
      "</select>\n",
      "</div>\n",
      "<div class=\"checkbox\">\n",
      "<input name=\"checkbox\" type=\"checkbox\"/><span>I agree to the <a href=\"https://www.w3docs.com/privacy-policy\">Privacy Poalicy for W3Docs.</a></span>\n",
      "</div>\n",
      "<button href=\"/\" type=\"submit\">Submit</button>\n",
      "</form>\n",
      "</div>, <div class=\"left-part\">\n",
      "<i class=\"fas fa-graduation-cap\"></i>\n",
      "<h1>Register to our courses</h1>\n",
      "<p>W3docs provides free learning materials for programming languages like HTML, CSS, Java Script, PHP etc.</p>\n",
      "<div class=\"btn-group\">\n",
      "<a class=\"btn-item\" href=\"https://www.w3docs.com/learn-html.html\">Learn HTML</a>\n",
      "<a class=\"btn-item\" href=\"https://www.w3docs.com/quiz/#\">Select Quiz</a>\n",
      "</div>\n",
      "        $2345\n",
      "      </div>, <p>W3docs provides free learning materials for programming languages like HTML, CSS, Java Script, PHP etc.</p>, <div class=\"btn-group\">\n",
      "<a class=\"btn-item\" href=\"https://www.w3docs.com/learn-html.html\">Learn HTML</a>\n",
      "<a class=\"btn-item\" href=\"https://www.w3docs.com/quiz/#\">Select Quiz</a>\n",
      "</div>, <div class=\"title\">\n",
      "<i class=\"fas fa-pencil-alt\"></i>\n",
      "<h2>Register here</h2>\n",
      "</div>, <div class=\"info\">\n",
      "<input class=\"fname\" name=\"name\" placeholder=\"Full name\" type=\"text\"/>\n",
      "<input name=\"name\" placeholder=\"Email\" type=\"text\"/>\n",
      "<input name=\"name\" placeholder=\"Phone number\" type=\"text\"/>\n",
      "<input name=\"name\" placeholder=\"Password\" type=\"password\"/>\n",
      "<select>\n",
      "<option color=\"blue\" selected=\"\" value=\"course-type\">Course type*</option>\n",
      "<option value=\"short-courses\">Short courses</option>\n",
      "<option value=\"featured-courses\">Featured courses</option>\n",
      "<option value=\"undergraduate\">Undergraduate</option>\n",
      "<option value=\"diploma\">Diploma</option>\n",
      "<option value=\"certificate\">Certificate</option>\n",
      "<option value=\"masters-degree\">Masters degree</option>\n",
      "<option value=\"postgraduate\">Postgraduate</option>\n",
      "</select>\n",
      "</div>, <div class=\"checkbox\">\n",
      "<input name=\"checkbox\" type=\"checkbox\"/><span>I agree to the <a href=\"https://www.w3docs.com/privacy-policy\">Privacy Poalicy for W3Docs.</a></span>\n",
      "</div>]\n"
     ]
    }
   ],
   "source": [
    "from bs4 import BeautifulSoup as bs\n",
    "import requests\n",
    "\n",
    "#To get from a url:\n",
    "url='https://www.newegg.ca/GIGABYTE-GeForce-RTX-3080-GV-N3080GAMING-OC-10GD/p/N82E16814932459?cm_sp=SH-_-943577-_-8-_-2-_-9SIAPBWFVU1074-_-GIGABYTE+Gaming+GeForce+RTX+3080-_-gigabyte%7Crtx-_-1&Item=9SIAPBWFVU1074'\n",
    "result = requests.get(url)\n",
    "doc = bs(result.text, 'html.parser')\n",
    "\n",
    "#From a document\n",
    "with open('index2.html', 'r') as f:\n",
    "    doc = bs(f, 'html.parser')\n",
    "\n",
    "tag = doc.find('option') # find just the first one\n",
    "print(tag)\n",
    "print(\"\\ntag['selected'] = \" + str(tag['selected']))\n",
    "print(\"\\ntag['value'] = \" + str(tag['value']))\n",
    "\n",
    "def tryColor():\n",
    "    try: \n",
    "        print(\"\\ntag['color'] = \" + str(tag['color']))\n",
    "    except:\n",
    "        print(\"\\ntag['color'] = doesn't exists\")\n",
    "\n",
    "tryColor()\n",
    "\n",
    "tag['color'] = 'blue'\n",
    "\n",
    "tryColor()\n",
    "\n",
    "print('\\nNow the atributes are:\\n\\t' + str(tag.attrs))\n",
    "\n",
    "#with filters:\n",
    "#filter = '...'\n",
    "tags = doc.find_all(['option'], text='Undergraduate', value='undergraduate')\n",
    "# find(name, attrs, recursive, string, **kwargs)\n",
    "\n",
    "print('\\nNow, with find_all with filters we can get:\\n' + str(tags))\n",
    "\n",
    "#but we can do with lists too:\n",
    "\n",
    "tags = doc.find_all(['p', 'div', 'li'])\n",
    "\n",
    "print('\\nNow, by last, because its huge, with find_all with a list we can get:\\n' + str(tags))"
   ]
  },
  {
   "cell_type": "markdown",
   "metadata": {},
   "source": [
    "## Class that are into some tag\n",
    "``` <a class=\"...\" href=\"...>```  \n",
    "If we put class = ... the python goint to create a class type variable (it is a reserved keyword)"
   ]
  },
  {
   "cell_type": "code",
   "execution_count": null,
   "metadata": {},
   "outputs": [],
   "source": [
    "tags = doc.find_all(class_ = 'btn-item')\n",
    "print('By class:\\n' + str(tags))"
   ]
  },
  {
   "cell_type": "markdown",
   "metadata": {},
   "source": [
    "## Regular Expression  \n",
    "We want the text that contain de ```$``` sign, but the things after the ```$``` sign\n"
   ]
  },
  {
   "cell_type": "code",
   "execution_count": 2,
   "metadata": {},
   "outputs": [
    {
     "name": "stdout",
     "output_type": "stream",
     "text": [
      "Tags:\n",
      "['\\n        $2345\\n      ', '\\n        $123\\n        ']\n",
      "\n",
      "In a beauty way:\n",
      "\t•$2345\n",
      "\t•$123\n"
     ]
    }
   ],
   "source": [
    "import re #Regular Expression\n",
    "\n",
    "tags = doc.find_all(text=re.compile('\\$.*'))\n",
    "print('Tags:\\n' + str(tags) +'\\n\\nIn a beauty way:')\n",
    "for tag in tags:\n",
    "        print('\\t•' + tag.string.strip())\n",
    "\n",
    "#LIMIT OF RESULTS:\n",
    "tags = doc.find_all(text=re.compile('\\$.*'), limit = 1) #we would get just 1 value return"
   ]
  },
  {
   "cell_type": "markdown",
   "metadata": {},
   "source": [
    "## Saving modified html"
   ]
  },
  {
   "cell_type": "code",
   "execution_count": 51,
   "metadata": {},
   "outputs": [],
   "source": [
    "tags = doc.find_all('input', type='text')\n",
    "for tag in tags:\n",
    "    tag['placeholder'] = 'I changed you!'\n",
    "\n",
    "with open('changed.html', 'w') as file:\n",
    "    file.write(doc.prettify())"
   ]
  }
 ],
 "metadata": {
  "interpreter": {
   "hash": "521eeac695e3c2e966221b87494992308f5f92fcd8b60d44812914cbad1a6e13"
  },
  "kernelspec": {
   "display_name": "Python 3.10.2 64-bit",
   "language": "python",
   "name": "python3"
  },
  "language_info": {
   "codemirror_mode": {
    "name": "ipython",
    "version": 3
   },
   "file_extension": ".py",
   "mimetype": "text/x-python",
   "name": "python",
   "nbconvert_exporter": "python",
   "pygments_lexer": "ipython3",
   "version": "3.10.2"
  },
  "orig_nbformat": 4
 },
 "nbformat": 4,
 "nbformat_minor": 2
}
