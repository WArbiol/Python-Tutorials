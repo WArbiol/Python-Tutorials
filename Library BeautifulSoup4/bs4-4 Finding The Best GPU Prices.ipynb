{
 "cells": [
  {
   "cell_type": "code",
   "execution_count": 107,
   "metadata": {},
   "outputs": [],
   "source": [
    "from bs4 import BeautifulSoup as bs\n",
    "import requests\n",
    "import re\n",
    "import pandas as pd\n",
    "\n",
    "searchTerm = input(\"What product do you want to search for?\")\n",
    "\n",
    "url = f'http://www.newegg.com/p/pl?d={searchTerm}&N=4131'\n",
    "\n",
    "page = requests.get(url).text\n",
    "doc=bs(page, 'html.parser')\n",
    "\n",
    "items = doc.find_all(text=re.compile(searchTerm)) #any text that contains this\n"
   ]
  },
  {
   "cell_type": "code",
   "execution_count": 108,
   "metadata": {},
   "outputs": [
    {
     "data": {
      "text/plain": [
       "25"
      ]
     },
     "execution_count": 108,
     "metadata": {},
     "output_type": "execute_result"
    }
   ],
   "source": [
    "pages = doc.find(['span'], class_='list-tool-pagination-text').strong\n",
    "pages = str(pages).split('/')[-2]\n",
    "pages = pages.split('>')[1]\n",
    "pages = pages[:-1] #retira o último elemento\n",
    "pages = int(pages)\n",
    "pages"
   ]
  },
  {
   "cell_type": "code",
   "execution_count": 109,
   "metadata": {},
   "outputs": [
    {
     "ename": "IndexError",
     "evalue": "list index out of range",
     "output_type": "error",
     "traceback": [
      "\u001b[1;31m---------------------------------------------------------------------------\u001b[0m",
      "\u001b[1;31mIndexError\u001b[0m                                Traceback (most recent call last)",
      "\u001b[1;32m~\\AppData\\Local\\Temp/ipykernel_11276/690646901.py\u001b[0m in \u001b[0;36m<module>\u001b[1;34m\u001b[0m\n\u001b[0;32m     19\u001b[0m         \u001b[0mforprice\u001b[0m \u001b[1;33m=\u001b[0m \u001b[0mgrangranpa\u001b[0m\u001b[1;33m.\u001b[0m\u001b[0mfind\u001b[0m\u001b[1;33m(\u001b[0m\u001b[0mclass_\u001b[0m\u001b[1;33m=\u001b[0m\u001b[1;34m'price'\u001b[0m\u001b[1;33m)\u001b[0m\u001b[1;33m\u001b[0m\u001b[1;33m\u001b[0m\u001b[0m\n\u001b[0;32m     20\u001b[0m         \u001b[0mforprice\u001b[0m \u001b[1;33m=\u001b[0m \u001b[0mforprice\u001b[0m\u001b[1;33m.\u001b[0m\u001b[0mfind_all\u001b[0m\u001b[1;33m(\u001b[0m\u001b[0mtext\u001b[0m\u001b[1;33m=\u001b[0m\u001b[0mre\u001b[0m\u001b[1;33m.\u001b[0m\u001b[0mcompile\u001b[0m\u001b[1;33m(\u001b[0m\u001b[1;34m'$'\u001b[0m\u001b[1;33m)\u001b[0m\u001b[1;33m)\u001b[0m \u001b[1;31m#não precisa _all porque queremos o primeiro\u001b[0m\u001b[1;33m\u001b[0m\u001b[1;33m\u001b[0m\u001b[0m\n\u001b[1;32m---> 21\u001b[1;33m         \u001b[1;32mif\u001b[0m \u001b[0mlen\u001b[0m\u001b[1;33m(\u001b[0m\u001b[0mforprice\u001b[0m\u001b[1;33m[\u001b[0m\u001b[1;36m0\u001b[0m\u001b[1;33m]\u001b[0m\u001b[1;33m)\u001b[0m \u001b[1;33m<\u001b[0m \u001b[1;36m2\u001b[0m\u001b[1;33m:\u001b[0m\u001b[1;33m\u001b[0m\u001b[1;33m\u001b[0m\u001b[0m\n\u001b[0m\u001b[0;32m     22\u001b[0m             \u001b[0mprice\u001b[0m\u001b[1;33m=\u001b[0m\u001b[0mstr\u001b[0m\u001b[1;33m(\u001b[0m\u001b[0mforprice\u001b[0m\u001b[1;33m[\u001b[0m\u001b[1;36m1\u001b[0m\u001b[1;33m]\u001b[0m\u001b[1;33m)\u001b[0m\u001b[1;33m+\u001b[0m\u001b[0mstr\u001b[0m\u001b[1;33m(\u001b[0m\u001b[0mforprice\u001b[0m\u001b[1;33m[\u001b[0m\u001b[1;36m2\u001b[0m\u001b[1;33m]\u001b[0m\u001b[1;33m)\u001b[0m\u001b[1;33m+\u001b[0m\u001b[0mstr\u001b[0m\u001b[1;33m(\u001b[0m\u001b[0mforprice\u001b[0m\u001b[1;33m[\u001b[0m\u001b[1;36m3\u001b[0m\u001b[1;33m]\u001b[0m\u001b[1;33m)\u001b[0m\u001b[1;33m\u001b[0m\u001b[1;33m\u001b[0m\u001b[0m\n\u001b[0;32m     23\u001b[0m         \u001b[1;32melse\u001b[0m\u001b[1;33m:\u001b[0m\u001b[1;33m\u001b[0m\u001b[1;33m\u001b[0m\u001b[0m\n",
      "\u001b[1;31mIndexError\u001b[0m: list index out of range"
     ]
    }
   ],
   "source": [
    "data=[]\n",
    "itemsFound= {}\n",
    "for page in range(1, pages + 1):\n",
    "    url=f'https://www.newegg.com/p/pl?d={searchTerm}&N=4131&page={page}'\n",
    "    Page = requests.get(url).text\n",
    "    doc=bs(Page, 'html.parser')\n",
    "    div = doc.find(class_='item-cells-wrap border-cells items-grid-view four-cells expulsion-one-cell')\n",
    "\n",
    "\n",
    "    items = div.find_all(text=re.compile(searchTerm)) #any text that contains this\n",
    "    \n",
    "    for item in items:\n",
    "        parent = item.parent\n",
    "        if parent.name != \"a\":\n",
    "            continue\n",
    "        link = parent['href']\n",
    "        name = item\n",
    "        grangranpa = parent.parent.parent\n",
    "        forprice = grangranpa.find(class_='price')\n",
    "        forprice = forprice.find_all(text=re.compile('$')) #não precisa _all porque queremos o primeiro\n",
    "        if len(forprice[0]) < 2:\n",
    "            price=str(forprice[1])+str(forprice[2])+str(forprice[3])\n",
    "        else:\n",
    "            price=forprice[0]\n",
    "        price = float(price.replace(',', '')[1:])\n",
    "\n",
    "        data.append([name, price, link])\n",
    "\n",
    "df = pd.DataFrame(data, columns=['Name', 'Price', 'Link'])\n",
    "df = df.sort_values(by=['Price'])\n",
    "df = df.set_index('Name')\n",
    "df\n"
   ]
  },
  {
   "cell_type": "code",
   "execution_count": null,
   "metadata": {},
   "outputs": [
    {
     "data": {
      "text/html": [
       "<div>\n",
       "<style scoped>\n",
       "    .dataframe tbody tr th:only-of-type {\n",
       "        vertical-align: middle;\n",
       "    }\n",
       "\n",
       "    .dataframe tbody tr th {\n",
       "        vertical-align: top;\n",
       "    }\n",
       "\n",
       "    .dataframe thead th {\n",
       "        text-align: right;\n",
       "    }\n",
       "</style>\n",
       "<table border=\"1\" class=\"dataframe\">\n",
       "  <thead>\n",
       "    <tr style=\"text-align: right;\">\n",
       "      <th></th>\n",
       "      <th>Price</th>\n",
       "      <th>Link</th>\n",
       "    </tr>\n",
       "    <tr>\n",
       "      <th>Name</th>\n",
       "      <th></th>\n",
       "      <th></th>\n",
       "    </tr>\n",
       "  </thead>\n",
       "  <tbody>\n",
       "    <tr>\n",
       "      <th>GIGABYTE Vision OC GeForce RTX 3080 10GB GDDR6X PCI Express 4.0 ATX Video Card GV-N3080VISION OC-10GD (rev. 2.0) (LHR)</th>\n",
       "      <td>1516.14</td>\n",
       "      <td>https://www.newegg.com/gigabyte-geforce-rtx-30...</td>\n",
       "    </tr>\n",
       "    <tr>\n",
       "      <th>MSI Ventus GeForce RTX 3080 10GB GDDR6X PCI Express 4.0 Video Card RTX 3080 VENTUS 3X PLUS 10G OC LHR</th>\n",
       "      <td>1526.09</td>\n",
       "      <td>https://www.newegg.com/p/1FT-0009-00704?Descri...</td>\n",
       "    </tr>\n",
       "    <tr>\n",
       "      <th>ASUS TUF Gaming NVIDIA GeForce RTX 3080 V2 OC Edition Graphics Card (PCIe 4.0, 10GB GDDR6X, LHR, HDMI 2.1, DisplayPort 1.4a, Dual Ball Fan Bearings, Military-grade Certification, GPU Tweak II)-OPENBOX</th>\n",
       "      <td>1539.99</td>\n",
       "      <td>https://www.newegg.com/p/1FT-000Y-006M5?Descri...</td>\n",
       "    </tr>\n",
       "    <tr>\n",
       "      <th>MSI Ventus GeForce RTX 3080 10GB GDDR6X PCI Express 4.0 Video Card RTX 3080 VENTUS 3X 10G OC LHR</th>\n",
       "      <td>1560.99</td>\n",
       "      <td>https://www.newegg.com/msi-geforce-rtx-3080-rt...</td>\n",
       "    </tr>\n",
       "    <tr>\n",
       "      <th>GIGABYTE Vision OC GeForce RTX 3080 10GB GDDR6X PCI Express 4.0 ATX Video Card GV-N3080VISION OC-10GD (rev. 2.0) (LHR)</th>\n",
       "      <td>1588.51</td>\n",
       "      <td>https://www.newegg.com/p/1FT-000A-002M3?Descri...</td>\n",
       "    </tr>\n",
       "    <tr>\n",
       "      <th>...</th>\n",
       "      <td>...</td>\n",
       "      <td>...</td>\n",
       "    </tr>\n",
       "    <tr>\n",
       "      <th>Velztorm Meridux Custom Desktop (Intel i7-12700K 12-Core, NVIDIA RTX 3080 Ti, 64GB DDR5 4800MHz RAM, 4TB PCIe SSD, Wifi, Bluetooth, USB 3.2, USB 3.1, HDMI, Display Port, White, Win 10 Pro)</th>\n",
       "      <td>6348.00</td>\n",
       "      <td>https://www.newegg.com/velztorm-meridux/p/3D5-...</td>\n",
       "    </tr>\n",
       "    <tr>\n",
       "      <th>Velztorm Meridux Custom Desktop (Intel i7-12700K 12-Core, NVIDIA RTX 3080 Ti, 64GB DDR5 4800MHz RAM, 2x2TB PCIe SSD (4TB), Wifi, Bluetooth, USB 3.2, USB 3.1, HDMI, Display Port, White, Win 10 Home)</th>\n",
       "      <td>6428.00</td>\n",
       "      <td>https://www.newegg.com/velztorm-meridux/p/3D5-...</td>\n",
       "    </tr>\n",
       "    <tr>\n",
       "      <th>Velztorm Meridux Custom Desktop (Intel i7-12700K 12-Core, NVIDIA RTX 3080 Ti, 64GB DDR5 4800MHz RAM, 2x2TB PCIe SSD (4TB), Wifi, Bluetooth, USB 3.2, USB 3.1, HDMI, Display Port, White, Win 10 Pro)</th>\n",
       "      <td>6548.00</td>\n",
       "      <td>https://www.newegg.com/velztorm-meridux/p/3D5-...</td>\n",
       "    </tr>\n",
       "    <tr>\n",
       "      <th>Velztorm Ferrux Custom Built Gaming Desktop PC (AMD Ryzen 9 - 5900X 12-Core, 128GB RAM, 2TB m.2 SATA SSD + 6TB HDD (3.5), NVIDIA GeForce RTX 3080 Ti, Wifi, 2xUSB 3.0, 1xHDMI, Win 10 Pro)</th>\n",
       "      <td>6848.00</td>\n",
       "      <td>https://www.newegg.com/velztorm-ferrux/p/3D5-0...</td>\n",
       "    </tr>\n",
       "    <tr>\n",
       "      <th>Velztorm Ballizta Custom Built Powerful Gaming Desktop PC (AMD Ryzen 9 - 5950X 16-Core, 128GB RAM, 4TB PCIe SSD + 6TB HDD (3.5), NVIDIA GeForce RTX 3080 Ti, Wifi, 2xUSB 3.2, 1xUSB 3.0, Win 10 Pro)</th>\n",
       "      <td>7398.00</td>\n",
       "      <td>https://www.newegg.com/p/3D5-000W-00YZ5?Descri...</td>\n",
       "    </tr>\n",
       "  </tbody>\n",
       "</table>\n",
       "<p>870 rows × 2 columns</p>\n",
       "</div>"
      ],
      "text/plain": [
       "                                                      Price  \\\n",
       "Name                                                          \n",
       "GIGABYTE Vision OC GeForce RTX 3080 10GB GDDR6X...  1516.14   \n",
       "MSI Ventus GeForce RTX 3080 10GB GDDR6X PCI Exp...  1526.09   \n",
       "ASUS TUF Gaming NVIDIA GeForce RTX 3080 V2 OC E...  1539.99   \n",
       "MSI Ventus GeForce RTX 3080 10GB GDDR6X PCI Exp...  1560.99   \n",
       "GIGABYTE Vision OC GeForce RTX 3080 10GB GDDR6X...  1588.51   \n",
       "...                                                     ...   \n",
       "Velztorm Meridux Custom Desktop (Intel i7-12700...  6348.00   \n",
       "Velztorm Meridux Custom Desktop (Intel i7-12700...  6428.00   \n",
       "Velztorm Meridux Custom Desktop (Intel i7-12700...  6548.00   \n",
       "Velztorm Ferrux Custom Built Gaming Desktop PC ...  6848.00   \n",
       "Velztorm Ballizta Custom Built Powerful Gaming ...  7398.00   \n",
       "\n",
       "                                                                                                 Link  \n",
       "Name                                                                                                   \n",
       "GIGABYTE Vision OC GeForce RTX 3080 10GB GDDR6X...  https://www.newegg.com/gigabyte-geforce-rtx-30...  \n",
       "MSI Ventus GeForce RTX 3080 10GB GDDR6X PCI Exp...  https://www.newegg.com/p/1FT-0009-00704?Descri...  \n",
       "ASUS TUF Gaming NVIDIA GeForce RTX 3080 V2 OC E...  https://www.newegg.com/p/1FT-000Y-006M5?Descri...  \n",
       "MSI Ventus GeForce RTX 3080 10GB GDDR6X PCI Exp...  https://www.newegg.com/msi-geforce-rtx-3080-rt...  \n",
       "GIGABYTE Vision OC GeForce RTX 3080 10GB GDDR6X...  https://www.newegg.com/p/1FT-000A-002M3?Descri...  \n",
       "...                                                                                               ...  \n",
       "Velztorm Meridux Custom Desktop (Intel i7-12700...  https://www.newegg.com/velztorm-meridux/p/3D5-...  \n",
       "Velztorm Meridux Custom Desktop (Intel i7-12700...  https://www.newegg.com/velztorm-meridux/p/3D5-...  \n",
       "Velztorm Meridux Custom Desktop (Intel i7-12700...  https://www.newegg.com/velztorm-meridux/p/3D5-...  \n",
       "Velztorm Ferrux Custom Built Gaming Desktop PC ...  https://www.newegg.com/velztorm-ferrux/p/3D5-0...  \n",
       "Velztorm Ballizta Custom Built Powerful Gaming ...  https://www.newegg.com/p/3D5-000W-00YZ5?Descri...  \n",
       "\n",
       "[870 rows x 2 columns]"
      ]
     },
     "execution_count": 106,
     "metadata": {},
     "output_type": "execute_result"
    }
   ],
   "source": [
    "df"
   ]
  }
 ],
 "metadata": {
  "interpreter": {
   "hash": "842ae17d9d05742518025976bee2d654c86abf4f9ed0a699f16ec04770409744"
  },
  "kernelspec": {
   "display_name": "Python 3.10.2 64-bit (windows store)",
   "language": "python",
   "name": "python3"
  },
  "language_info": {
   "codemirror_mode": {
    "name": "ipython",
    "version": 3
   },
   "file_extension": ".py",
   "mimetype": "text/x-python",
   "name": "python",
   "nbconvert_exporter": "python",
   "pygments_lexer": "ipython3",
   "version": "3.10.2"
  },
  "orig_nbformat": 4
 },
 "nbformat": 4,
 "nbformat_minor": 2
}
